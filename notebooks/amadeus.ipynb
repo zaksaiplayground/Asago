{
 "cells": [
  {
   "cell_type": "code",
   "execution_count": 1,
   "id": "06c33841",
   "metadata": {},
   "outputs": [],
   "source": [
    "from amadeus import Client, ResponseError\n",
    "\n",
    "amadeus = Client(\n",
    "    client_id='YkVlL5NLkEZr69PiG0iUDQ6AkGfSiGAK',\n",
    "    client_secret='Nqe7mMGHAFI70J4y'\n",
    ")"
   ]
  },
  {
   "cell_type": "code",
   "execution_count": null,
   "id": "775dd4a2",
   "metadata": {},
   "outputs": [
    {
     "name": "stdout",
     "output_type": "stream",
     "text": [
      "<amadeus.client.response.Response object at 0x7132901487c0>\n"
     ]
    }
   ],
   "source": [
    "try:\n",
    "    response = amadeus.shopping.flight_offers_search.get(\n",
    "        originLocationCode='COK',\n",
    "        destinationLocationCode='MUN',\n",
    "        departureDate='2025-09-02',\n",
    "        # returnDate='2025-12-02',\n",
    "        includedAirlineCodes=\"EK\",\n",
    "        # excludedAirlineCodes=\"\",\n",
    "        # nonStop=\"false\",\n",
    "        adults=1)\n",
    "    print(response)\n",
    "except ResponseError as error:\n",
    "    print(error.response.status_code)\n",
    "    print(error.response.body)  # This shows the real message from Amadeus"
   ]
  },
  {
   "cell_type": "code",
   "execution_count": 3,
   "id": "75a1b410",
   "metadata": {},
   "outputs": [
    {
     "data": {
      "text/plain": [
       "[]"
      ]
     },
     "execution_count": 3,
     "metadata": {},
     "output_type": "execute_result"
    }
   ],
   "source": [
    "response.data"
   ]
  }
 ],
 "metadata": {
  "kernelspec": {
   "display_name": "asago",
   "language": "python",
   "name": "python3"
  },
  "language_info": {
   "codemirror_mode": {
    "name": "ipython",
    "version": 3
   },
   "file_extension": ".py",
   "mimetype": "text/x-python",
   "name": "python",
   "nbconvert_exporter": "python",
   "pygments_lexer": "ipython3",
   "version": "3.10.16"
  }
 },
 "nbformat": 4,
 "nbformat_minor": 5
}
